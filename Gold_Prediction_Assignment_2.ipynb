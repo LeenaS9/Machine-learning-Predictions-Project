{
  "nbformat": 4,
  "nbformat_minor": 0,
  "metadata": {
    "colab": {
      "provenance": []
    },
    "kernelspec": {
      "name": "python3",
      "display_name": "Python 3"
    },
    "language_info": {
      "name": "python"
    }
  },
  "cells": [
    {
      "cell_type": "markdown",
      "source": [],
      "metadata": {
        "id": "q5iyou73J_CU"
      }
    },
    {
      "cell_type": "markdown",
      "source": [],
      "metadata": {
        "id": "t5dIGSzsJ-4Y"
      }
    },
    {
      "cell_type": "markdown",
      "source": [
        "**Import Libraries**"
      ],
      "metadata": {
        "id": "yc42WvPFJ_iC"
      }
    },
    {
      "cell_type": "code",
      "source": [
        "import numpy as np   #linear algebra\n",
        "import pandas as pd   #for data processing\n",
        "import matplotlib.pyplot as plt  #for graph plotting\n",
        "import seaborn as sns\n",
        "from sklearn.preprocessing import StandardScaler    #Standardization\n",
        "from sklearn.model_selection import train_test_split   #for splitting dataset into train and test modules\n",
        "from sklearn.metrics import accuracy_score             #for finding accuracy score of algorithm\n",
        "from sklearn.ensemble import RandomForestRegressor    #for using Random forest regression model\n",
        "from sklearn import metrics                           #mathematical computation\n",
        "\n"
      ],
      "metadata": {
        "id": "WYBzRBgCKGo5"
      },
      "execution_count": null,
      "outputs": []
    },
    {
      "cell_type": "markdown",
      "source": [
        "Loading and Reading Dataset"
      ],
      "metadata": {
        "id": "VGprOVV2KZh8"
      }
    },
    {
      "cell_type": "code",
      "source": [
        "df=pd.read_csv('/content/gld_price_data.csv')            #loading dataset\n",
        "df.head(3)                                               #Reading first three values from dataset"
      ],
      "metadata": {
        "colab": {
          "base_uri": "https://localhost:8080/",
          "height": 143
        },
        "id": "82ANnuXkKc7f",
        "outputId": "3b5eed84-8caa-4e91-b109-b6f38d5d6c25"
      },
      "execution_count": null,
      "outputs": [
        {
          "output_type": "execute_result",
          "data": {
            "text/plain": [
              "       Date          SPX        GLD        USO     SLV   EUR/USD\n",
              "0  1/2/2008  1447.160034  84.860001  78.470001  15.180  1.471692\n",
              "1  1/3/2008  1447.160034  85.570000  78.370003  15.285  1.474491\n",
              "2  1/4/2008  1411.630005  85.129997  77.309998  15.167  1.475492"
            ],
            "text/html": [
              "\n",
              "  <div id=\"df-63217fe1-7bea-4c98-ac81-53ef1d7e75a5\">\n",
              "    <div class=\"colab-df-container\">\n",
              "      <div>\n",
              "<style scoped>\n",
              "    .dataframe tbody tr th:only-of-type {\n",
              "        vertical-align: middle;\n",
              "    }\n",
              "\n",
              "    .dataframe tbody tr th {\n",
              "        vertical-align: top;\n",
              "    }\n",
              "\n",
              "    .dataframe thead th {\n",
              "        text-align: right;\n",
              "    }\n",
              "</style>\n",
              "<table border=\"1\" class=\"dataframe\">\n",
              "  <thead>\n",
              "    <tr style=\"text-align: right;\">\n",
              "      <th></th>\n",
              "      <th>Date</th>\n",
              "      <th>SPX</th>\n",
              "      <th>GLD</th>\n",
              "      <th>USO</th>\n",
              "      <th>SLV</th>\n",
              "      <th>EUR/USD</th>\n",
              "    </tr>\n",
              "  </thead>\n",
              "  <tbody>\n",
              "    <tr>\n",
              "      <th>0</th>\n",
              "      <td>1/2/2008</td>\n",
              "      <td>1447.160034</td>\n",
              "      <td>84.860001</td>\n",
              "      <td>78.470001</td>\n",
              "      <td>15.180</td>\n",
              "      <td>1.471692</td>\n",
              "    </tr>\n",
              "    <tr>\n",
              "      <th>1</th>\n",
              "      <td>1/3/2008</td>\n",
              "      <td>1447.160034</td>\n",
              "      <td>85.570000</td>\n",
              "      <td>78.370003</td>\n",
              "      <td>15.285</td>\n",
              "      <td>1.474491</td>\n",
              "    </tr>\n",
              "    <tr>\n",
              "      <th>2</th>\n",
              "      <td>1/4/2008</td>\n",
              "      <td>1411.630005</td>\n",
              "      <td>85.129997</td>\n",
              "      <td>77.309998</td>\n",
              "      <td>15.167</td>\n",
              "      <td>1.475492</td>\n",
              "    </tr>\n",
              "  </tbody>\n",
              "</table>\n",
              "</div>\n",
              "      <button class=\"colab-df-convert\" onclick=\"convertToInteractive('df-63217fe1-7bea-4c98-ac81-53ef1d7e75a5')\"\n",
              "              title=\"Convert this dataframe to an interactive table.\"\n",
              "              style=\"display:none;\">\n",
              "        \n",
              "  <svg xmlns=\"http://www.w3.org/2000/svg\" height=\"24px\"viewBox=\"0 0 24 24\"\n",
              "       width=\"24px\">\n",
              "    <path d=\"M0 0h24v24H0V0z\" fill=\"none\"/>\n",
              "    <path d=\"M18.56 5.44l.94 2.06.94-2.06 2.06-.94-2.06-.94-.94-2.06-.94 2.06-2.06.94zm-11 1L8.5 8.5l.94-2.06 2.06-.94-2.06-.94L8.5 2.5l-.94 2.06-2.06.94zm10 10l.94 2.06.94-2.06 2.06-.94-2.06-.94-.94-2.06-.94 2.06-2.06.94z\"/><path d=\"M17.41 7.96l-1.37-1.37c-.4-.4-.92-.59-1.43-.59-.52 0-1.04.2-1.43.59L10.3 9.45l-7.72 7.72c-.78.78-.78 2.05 0 2.83L4 21.41c.39.39.9.59 1.41.59.51 0 1.02-.2 1.41-.59l7.78-7.78 2.81-2.81c.8-.78.8-2.07 0-2.86zM5.41 20L4 18.59l7.72-7.72 1.47 1.35L5.41 20z\"/>\n",
              "  </svg>\n",
              "      </button>\n",
              "      \n",
              "  <style>\n",
              "    .colab-df-container {\n",
              "      display:flex;\n",
              "      flex-wrap:wrap;\n",
              "      gap: 12px;\n",
              "    }\n",
              "\n",
              "    .colab-df-convert {\n",
              "      background-color: #E8F0FE;\n",
              "      border: none;\n",
              "      border-radius: 50%;\n",
              "      cursor: pointer;\n",
              "      display: none;\n",
              "      fill: #1967D2;\n",
              "      height: 32px;\n",
              "      padding: 0 0 0 0;\n",
              "      width: 32px;\n",
              "    }\n",
              "\n",
              "    .colab-df-convert:hover {\n",
              "      background-color: #E2EBFA;\n",
              "      box-shadow: 0px 1px 2px rgba(60, 64, 67, 0.3), 0px 1px 3px 1px rgba(60, 64, 67, 0.15);\n",
              "      fill: #174EA6;\n",
              "    }\n",
              "\n",
              "    [theme=dark] .colab-df-convert {\n",
              "      background-color: #3B4455;\n",
              "      fill: #D2E3FC;\n",
              "    }\n",
              "\n",
              "    [theme=dark] .colab-df-convert:hover {\n",
              "      background-color: #434B5C;\n",
              "      box-shadow: 0px 1px 3px 1px rgba(0, 0, 0, 0.15);\n",
              "      filter: drop-shadow(0px 1px 2px rgba(0, 0, 0, 0.3));\n",
              "      fill: #FFFFFF;\n",
              "    }\n",
              "  </style>\n",
              "\n",
              "      <script>\n",
              "        const buttonEl =\n",
              "          document.querySelector('#df-63217fe1-7bea-4c98-ac81-53ef1d7e75a5 button.colab-df-convert');\n",
              "        buttonEl.style.display =\n",
              "          google.colab.kernel.accessAllowed ? 'block' : 'none';\n",
              "\n",
              "        async function convertToInteractive(key) {\n",
              "          const element = document.querySelector('#df-63217fe1-7bea-4c98-ac81-53ef1d7e75a5');\n",
              "          const dataTable =\n",
              "            await google.colab.kernel.invokeFunction('convertToInteractive',\n",
              "                                                     [key], {});\n",
              "          if (!dataTable) return;\n",
              "\n",
              "          const docLinkHtml = 'Like what you see? Visit the ' +\n",
              "            '<a target=\"_blank\" href=https://colab.research.google.com/notebooks/data_table.ipynb>data table notebook</a>'\n",
              "            + ' to learn more about interactive tables.';\n",
              "          element.innerHTML = '';\n",
              "          dataTable['output_type'] = 'display_data';\n",
              "          await google.colab.output.renderOutput(dataTable, element);\n",
              "          const docLink = document.createElement('div');\n",
              "          docLink.innerHTML = docLinkHtml;\n",
              "          element.appendChild(docLink);\n",
              "        }\n",
              "      </script>\n",
              "    </div>\n",
              "  </div>\n",
              "  "
            ]
          },
          "metadata": {},
          "execution_count": 4
        }
      ]
    },
    {
      "cell_type": "code",
      "source": [
        "#Finding last 5 rows of dataset\n",
        "df.tail(5)"
      ],
      "metadata": {
        "colab": {
          "base_uri": "https://localhost:8080/",
          "height": 206
        },
        "id": "naYDP2wyMNPA",
        "outputId": "cad7247c-a349-47fb-befc-a8c39d275ed6"
      },
      "execution_count": null,
      "outputs": [
        {
          "output_type": "execute_result",
          "data": {
            "text/plain": [
              "           Date          SPX         GLD      USO      SLV   EUR/USD\n",
              "2285   5/8/2018  2671.919922  124.589996  14.0600  15.5100  1.186789\n",
              "2286   5/9/2018  2697.790039  124.330002  14.3700  15.5300  1.184722\n",
              "2287  5/10/2018  2723.070068  125.180000  14.4100  15.7400  1.191753\n",
              "2288  5/14/2018  2730.129883  124.489998  14.3800  15.5600  1.193118\n",
              "2289  5/16/2018  2725.780029  122.543800  14.4058  15.4542  1.182033"
            ],
            "text/html": [
              "\n",
              "  <div id=\"df-57e1e890-0ba2-45e8-a280-05e6ba578372\">\n",
              "    <div class=\"colab-df-container\">\n",
              "      <div>\n",
              "<style scoped>\n",
              "    .dataframe tbody tr th:only-of-type {\n",
              "        vertical-align: middle;\n",
              "    }\n",
              "\n",
              "    .dataframe tbody tr th {\n",
              "        vertical-align: top;\n",
              "    }\n",
              "\n",
              "    .dataframe thead th {\n",
              "        text-align: right;\n",
              "    }\n",
              "</style>\n",
              "<table border=\"1\" class=\"dataframe\">\n",
              "  <thead>\n",
              "    <tr style=\"text-align: right;\">\n",
              "      <th></th>\n",
              "      <th>Date</th>\n",
              "      <th>SPX</th>\n",
              "      <th>GLD</th>\n",
              "      <th>USO</th>\n",
              "      <th>SLV</th>\n",
              "      <th>EUR/USD</th>\n",
              "    </tr>\n",
              "  </thead>\n",
              "  <tbody>\n",
              "    <tr>\n",
              "      <th>2285</th>\n",
              "      <td>5/8/2018</td>\n",
              "      <td>2671.919922</td>\n",
              "      <td>124.589996</td>\n",
              "      <td>14.0600</td>\n",
              "      <td>15.5100</td>\n",
              "      <td>1.186789</td>\n",
              "    </tr>\n",
              "    <tr>\n",
              "      <th>2286</th>\n",
              "      <td>5/9/2018</td>\n",
              "      <td>2697.790039</td>\n",
              "      <td>124.330002</td>\n",
              "      <td>14.3700</td>\n",
              "      <td>15.5300</td>\n",
              "      <td>1.184722</td>\n",
              "    </tr>\n",
              "    <tr>\n",
              "      <th>2287</th>\n",
              "      <td>5/10/2018</td>\n",
              "      <td>2723.070068</td>\n",
              "      <td>125.180000</td>\n",
              "      <td>14.4100</td>\n",
              "      <td>15.7400</td>\n",
              "      <td>1.191753</td>\n",
              "    </tr>\n",
              "    <tr>\n",
              "      <th>2288</th>\n",
              "      <td>5/14/2018</td>\n",
              "      <td>2730.129883</td>\n",
              "      <td>124.489998</td>\n",
              "      <td>14.3800</td>\n",
              "      <td>15.5600</td>\n",
              "      <td>1.193118</td>\n",
              "    </tr>\n",
              "    <tr>\n",
              "      <th>2289</th>\n",
              "      <td>5/16/2018</td>\n",
              "      <td>2725.780029</td>\n",
              "      <td>122.543800</td>\n",
              "      <td>14.4058</td>\n",
              "      <td>15.4542</td>\n",
              "      <td>1.182033</td>\n",
              "    </tr>\n",
              "  </tbody>\n",
              "</table>\n",
              "</div>\n",
              "      <button class=\"colab-df-convert\" onclick=\"convertToInteractive('df-57e1e890-0ba2-45e8-a280-05e6ba578372')\"\n",
              "              title=\"Convert this dataframe to an interactive table.\"\n",
              "              style=\"display:none;\">\n",
              "        \n",
              "  <svg xmlns=\"http://www.w3.org/2000/svg\" height=\"24px\"viewBox=\"0 0 24 24\"\n",
              "       width=\"24px\">\n",
              "    <path d=\"M0 0h24v24H0V0z\" fill=\"none\"/>\n",
              "    <path d=\"M18.56 5.44l.94 2.06.94-2.06 2.06-.94-2.06-.94-.94-2.06-.94 2.06-2.06.94zm-11 1L8.5 8.5l.94-2.06 2.06-.94-2.06-.94L8.5 2.5l-.94 2.06-2.06.94zm10 10l.94 2.06.94-2.06 2.06-.94-2.06-.94-.94-2.06-.94 2.06-2.06.94z\"/><path d=\"M17.41 7.96l-1.37-1.37c-.4-.4-.92-.59-1.43-.59-.52 0-1.04.2-1.43.59L10.3 9.45l-7.72 7.72c-.78.78-.78 2.05 0 2.83L4 21.41c.39.39.9.59 1.41.59.51 0 1.02-.2 1.41-.59l7.78-7.78 2.81-2.81c.8-.78.8-2.07 0-2.86zM5.41 20L4 18.59l7.72-7.72 1.47 1.35L5.41 20z\"/>\n",
              "  </svg>\n",
              "      </button>\n",
              "      \n",
              "  <style>\n",
              "    .colab-df-container {\n",
              "      display:flex;\n",
              "      flex-wrap:wrap;\n",
              "      gap: 12px;\n",
              "    }\n",
              "\n",
              "    .colab-df-convert {\n",
              "      background-color: #E8F0FE;\n",
              "      border: none;\n",
              "      border-radius: 50%;\n",
              "      cursor: pointer;\n",
              "      display: none;\n",
              "      fill: #1967D2;\n",
              "      height: 32px;\n",
              "      padding: 0 0 0 0;\n",
              "      width: 32px;\n",
              "    }\n",
              "\n",
              "    .colab-df-convert:hover {\n",
              "      background-color: #E2EBFA;\n",
              "      box-shadow: 0px 1px 2px rgba(60, 64, 67, 0.3), 0px 1px 3px 1px rgba(60, 64, 67, 0.15);\n",
              "      fill: #174EA6;\n",
              "    }\n",
              "\n",
              "    [theme=dark] .colab-df-convert {\n",
              "      background-color: #3B4455;\n",
              "      fill: #D2E3FC;\n",
              "    }\n",
              "\n",
              "    [theme=dark] .colab-df-convert:hover {\n",
              "      background-color: #434B5C;\n",
              "      box-shadow: 0px 1px 3px 1px rgba(0, 0, 0, 0.15);\n",
              "      filter: drop-shadow(0px 1px 2px rgba(0, 0, 0, 0.3));\n",
              "      fill: #FFFFFF;\n",
              "    }\n",
              "  </style>\n",
              "\n",
              "      <script>\n",
              "        const buttonEl =\n",
              "          document.querySelector('#df-57e1e890-0ba2-45e8-a280-05e6ba578372 button.colab-df-convert');\n",
              "        buttonEl.style.display =\n",
              "          google.colab.kernel.accessAllowed ? 'block' : 'none';\n",
              "\n",
              "        async function convertToInteractive(key) {\n",
              "          const element = document.querySelector('#df-57e1e890-0ba2-45e8-a280-05e6ba578372');\n",
              "          const dataTable =\n",
              "            await google.colab.kernel.invokeFunction('convertToInteractive',\n",
              "                                                     [key], {});\n",
              "          if (!dataTable) return;\n",
              "\n",
              "          const docLinkHtml = 'Like what you see? Visit the ' +\n",
              "            '<a target=\"_blank\" href=https://colab.research.google.com/notebooks/data_table.ipynb>data table notebook</a>'\n",
              "            + ' to learn more about interactive tables.';\n",
              "          element.innerHTML = '';\n",
              "          dataTable['output_type'] = 'display_data';\n",
              "          await google.colab.output.renderOutput(dataTable, element);\n",
              "          const docLink = document.createElement('div');\n",
              "          docLink.innerHTML = docLinkHtml;\n",
              "          element.appendChild(docLink);\n",
              "        }\n",
              "      </script>\n",
              "    </div>\n",
              "  </div>\n",
              "  "
            ]
          },
          "metadata": {},
          "execution_count": 6
        }
      ]
    },
    {
      "cell_type": "markdown",
      "source": [
        "Finding Number of Rows and Columns of Dataset"
      ],
      "metadata": {
        "id": "jq4sRVghL_zY"
      }
    },
    {
      "cell_type": "code",
      "source": [
        "df.shape"
      ],
      "metadata": {
        "colab": {
          "base_uri": "https://localhost:8080/"
        },
        "id": "uIU_y4f7L-lR",
        "outputId": "76e5a390-585a-4904-f493-817f5e739da2"
      },
      "execution_count": null,
      "outputs": [
        {
          "output_type": "execute_result",
          "data": {
            "text/plain": [
              "(2290, 6)"
            ]
          },
          "metadata": {},
          "execution_count": 5
        }
      ]
    },
    {
      "cell_type": "markdown",
      "source": [
        "Getting some basic information about the data\n"
      ],
      "metadata": {
        "id": "5sJElfzyMH2f"
      }
    },
    {
      "cell_type": "code",
      "source": [
        "df.info()"
      ],
      "metadata": {
        "colab": {
          "base_uri": "https://localhost:8080/"
        },
        "id": "h9JsdVblMeXt",
        "outputId": "90dcbd6e-f5e2-476b-ccf3-02abebd4af36"
      },
      "execution_count": null,
      "outputs": [
        {
          "output_type": "stream",
          "name": "stdout",
          "text": [
            "<class 'pandas.core.frame.DataFrame'>\n",
            "RangeIndex: 2290 entries, 0 to 2289\n",
            "Data columns (total 6 columns):\n",
            " #   Column   Non-Null Count  Dtype  \n",
            "---  ------   --------------  -----  \n",
            " 0   Date     2290 non-null   object \n",
            " 1   SPX      2290 non-null   float64\n",
            " 2   GLD      2290 non-null   float64\n",
            " 3   USO      2290 non-null   float64\n",
            " 4   SLV      2290 non-null   float64\n",
            " 5   EUR/USD  2290 non-null   float64\n",
            "dtypes: float64(5), object(1)\n",
            "memory usage: 107.5+ KB\n"
          ]
        }
      ]
    },
    {
      "cell_type": "markdown",
      "source": [
        "Checking number of missing values"
      ],
      "metadata": {
        "id": "v0blYRO-MhKS"
      }
    },
    {
      "cell_type": "code",
      "source": [
        "df.isnull().sum()"
      ],
      "metadata": {
        "colab": {
          "base_uri": "https://localhost:8080/"
        },
        "id": "G1Nzt7bDMtGt",
        "outputId": "810775c5-5f28-42ed-933e-fe32e8283816"
      },
      "execution_count": null,
      "outputs": [
        {
          "output_type": "execute_result",
          "data": {
            "text/plain": [
              "Date       0\n",
              "SPX        0\n",
              "GLD        0\n",
              "USO        0\n",
              "SLV        0\n",
              "EUR/USD    0\n",
              "dtype: int64"
            ]
          },
          "metadata": {},
          "execution_count": 8
        }
      ]
    },
    {
      "cell_type": "markdown",
      "source": [
        "Getting statistical measures of data"
      ],
      "metadata": {
        "id": "YO0PasotM0NK"
      }
    },
    {
      "cell_type": "code",
      "source": [
        "df.describe()"
      ],
      "metadata": {
        "colab": {
          "base_uri": "https://localhost:8080/",
          "height": 300
        },
        "id": "LhnX9Lo2M4hP",
        "outputId": "028f29c6-7e81-4432-b57e-e0b6b40c0a4c"
      },
      "execution_count": null,
      "outputs": [
        {
          "output_type": "execute_result",
          "data": {
            "text/plain": [
              "               SPX          GLD          USO          SLV      EUR/USD\n",
              "count  2290.000000  2290.000000  2290.000000  2290.000000  2290.000000\n",
              "mean   1654.315776   122.732875    31.842221    20.084997     1.283653\n",
              "std     519.111540    23.283346    19.523517     7.092566     0.131547\n",
              "min     676.530029    70.000000     7.960000     8.850000     1.039047\n",
              "25%    1239.874969   109.725000    14.380000    15.570000     1.171313\n",
              "50%    1551.434998   120.580002    33.869999    17.268500     1.303297\n",
              "75%    2073.010070   132.840004    37.827501    22.882500     1.369971\n",
              "max    2872.870117   184.589996   117.480003    47.259998     1.598798"
            ],
            "text/html": [
              "\n",
              "  <div id=\"df-c89061d6-6c51-47c4-986a-cd07877297d2\">\n",
              "    <div class=\"colab-df-container\">\n",
              "      <div>\n",
              "<style scoped>\n",
              "    .dataframe tbody tr th:only-of-type {\n",
              "        vertical-align: middle;\n",
              "    }\n",
              "\n",
              "    .dataframe tbody tr th {\n",
              "        vertical-align: top;\n",
              "    }\n",
              "\n",
              "    .dataframe thead th {\n",
              "        text-align: right;\n",
              "    }\n",
              "</style>\n",
              "<table border=\"1\" class=\"dataframe\">\n",
              "  <thead>\n",
              "    <tr style=\"text-align: right;\">\n",
              "      <th></th>\n",
              "      <th>SPX</th>\n",
              "      <th>GLD</th>\n",
              "      <th>USO</th>\n",
              "      <th>SLV</th>\n",
              "      <th>EUR/USD</th>\n",
              "    </tr>\n",
              "  </thead>\n",
              "  <tbody>\n",
              "    <tr>\n",
              "      <th>count</th>\n",
              "      <td>2290.000000</td>\n",
              "      <td>2290.000000</td>\n",
              "      <td>2290.000000</td>\n",
              "      <td>2290.000000</td>\n",
              "      <td>2290.000000</td>\n",
              "    </tr>\n",
              "    <tr>\n",
              "      <th>mean</th>\n",
              "      <td>1654.315776</td>\n",
              "      <td>122.732875</td>\n",
              "      <td>31.842221</td>\n",
              "      <td>20.084997</td>\n",
              "      <td>1.283653</td>\n",
              "    </tr>\n",
              "    <tr>\n",
              "      <th>std</th>\n",
              "      <td>519.111540</td>\n",
              "      <td>23.283346</td>\n",
              "      <td>19.523517</td>\n",
              "      <td>7.092566</td>\n",
              "      <td>0.131547</td>\n",
              "    </tr>\n",
              "    <tr>\n",
              "      <th>min</th>\n",
              "      <td>676.530029</td>\n",
              "      <td>70.000000</td>\n",
              "      <td>7.960000</td>\n",
              "      <td>8.850000</td>\n",
              "      <td>1.039047</td>\n",
              "    </tr>\n",
              "    <tr>\n",
              "      <th>25%</th>\n",
              "      <td>1239.874969</td>\n",
              "      <td>109.725000</td>\n",
              "      <td>14.380000</td>\n",
              "      <td>15.570000</td>\n",
              "      <td>1.171313</td>\n",
              "    </tr>\n",
              "    <tr>\n",
              "      <th>50%</th>\n",
              "      <td>1551.434998</td>\n",
              "      <td>120.580002</td>\n",
              "      <td>33.869999</td>\n",
              "      <td>17.268500</td>\n",
              "      <td>1.303297</td>\n",
              "    </tr>\n",
              "    <tr>\n",
              "      <th>75%</th>\n",
              "      <td>2073.010070</td>\n",
              "      <td>132.840004</td>\n",
              "      <td>37.827501</td>\n",
              "      <td>22.882500</td>\n",
              "      <td>1.369971</td>\n",
              "    </tr>\n",
              "    <tr>\n",
              "      <th>max</th>\n",
              "      <td>2872.870117</td>\n",
              "      <td>184.589996</td>\n",
              "      <td>117.480003</td>\n",
              "      <td>47.259998</td>\n",
              "      <td>1.598798</td>\n",
              "    </tr>\n",
              "  </tbody>\n",
              "</table>\n",
              "</div>\n",
              "      <button class=\"colab-df-convert\" onclick=\"convertToInteractive('df-c89061d6-6c51-47c4-986a-cd07877297d2')\"\n",
              "              title=\"Convert this dataframe to an interactive table.\"\n",
              "              style=\"display:none;\">\n",
              "        \n",
              "  <svg xmlns=\"http://www.w3.org/2000/svg\" height=\"24px\"viewBox=\"0 0 24 24\"\n",
              "       width=\"24px\">\n",
              "    <path d=\"M0 0h24v24H0V0z\" fill=\"none\"/>\n",
              "    <path d=\"M18.56 5.44l.94 2.06.94-2.06 2.06-.94-2.06-.94-.94-2.06-.94 2.06-2.06.94zm-11 1L8.5 8.5l.94-2.06 2.06-.94-2.06-.94L8.5 2.5l-.94 2.06-2.06.94zm10 10l.94 2.06.94-2.06 2.06-.94-2.06-.94-.94-2.06-.94 2.06-2.06.94z\"/><path d=\"M17.41 7.96l-1.37-1.37c-.4-.4-.92-.59-1.43-.59-.52 0-1.04.2-1.43.59L10.3 9.45l-7.72 7.72c-.78.78-.78 2.05 0 2.83L4 21.41c.39.39.9.59 1.41.59.51 0 1.02-.2 1.41-.59l7.78-7.78 2.81-2.81c.8-.78.8-2.07 0-2.86zM5.41 20L4 18.59l7.72-7.72 1.47 1.35L5.41 20z\"/>\n",
              "  </svg>\n",
              "      </button>\n",
              "      \n",
              "  <style>\n",
              "    .colab-df-container {\n",
              "      display:flex;\n",
              "      flex-wrap:wrap;\n",
              "      gap: 12px;\n",
              "    }\n",
              "\n",
              "    .colab-df-convert {\n",
              "      background-color: #E8F0FE;\n",
              "      border: none;\n",
              "      border-radius: 50%;\n",
              "      cursor: pointer;\n",
              "      display: none;\n",
              "      fill: #1967D2;\n",
              "      height: 32px;\n",
              "      padding: 0 0 0 0;\n",
              "      width: 32px;\n",
              "    }\n",
              "\n",
              "    .colab-df-convert:hover {\n",
              "      background-color: #E2EBFA;\n",
              "      box-shadow: 0px 1px 2px rgba(60, 64, 67, 0.3), 0px 1px 3px 1px rgba(60, 64, 67, 0.15);\n",
              "      fill: #174EA6;\n",
              "    }\n",
              "\n",
              "    [theme=dark] .colab-df-convert {\n",
              "      background-color: #3B4455;\n",
              "      fill: #D2E3FC;\n",
              "    }\n",
              "\n",
              "    [theme=dark] .colab-df-convert:hover {\n",
              "      background-color: #434B5C;\n",
              "      box-shadow: 0px 1px 3px 1px rgba(0, 0, 0, 0.15);\n",
              "      filter: drop-shadow(0px 1px 2px rgba(0, 0, 0, 0.3));\n",
              "      fill: #FFFFFF;\n",
              "    }\n",
              "  </style>\n",
              "\n",
              "      <script>\n",
              "        const buttonEl =\n",
              "          document.querySelector('#df-c89061d6-6c51-47c4-986a-cd07877297d2 button.colab-df-convert');\n",
              "        buttonEl.style.display =\n",
              "          google.colab.kernel.accessAllowed ? 'block' : 'none';\n",
              "\n",
              "        async function convertToInteractive(key) {\n",
              "          const element = document.querySelector('#df-c89061d6-6c51-47c4-986a-cd07877297d2');\n",
              "          const dataTable =\n",
              "            await google.colab.kernel.invokeFunction('convertToInteractive',\n",
              "                                                     [key], {});\n",
              "          if (!dataTable) return;\n",
              "\n",
              "          const docLinkHtml = 'Like what you see? Visit the ' +\n",
              "            '<a target=\"_blank\" href=https://colab.research.google.com/notebooks/data_table.ipynb>data table notebook</a>'\n",
              "            + ' to learn more about interactive tables.';\n",
              "          element.innerHTML = '';\n",
              "          dataTable['output_type'] = 'display_data';\n",
              "          await google.colab.output.renderOutput(dataTable, element);\n",
              "          const docLink = document.createElement('div');\n",
              "          docLink.innerHTML = docLinkHtml;\n",
              "          element.appendChild(docLink);\n",
              "        }\n",
              "      </script>\n",
              "    </div>\n",
              "  </div>\n",
              "  "
            ]
          },
          "metadata": {},
          "execution_count": 9
        }
      ]
    },
    {
      "cell_type": "markdown",
      "source": [
        "**Exploratory Data Analysis**"
      ],
      "metadata": {
        "id": "G0bcooyKNOT5"
      }
    },
    {
      "cell_type": "code",
      "source": [
        "#Find feature with one value\n",
        "for column in df.columns:\n",
        "  print(column,df[column].nunique())"
      ],
      "metadata": {
        "colab": {
          "base_uri": "https://localhost:8080/"
        },
        "id": "2L1Kh39SNjbY",
        "outputId": "6001cea2-74cd-499f-ab2b-146d5ac1dc9a"
      },
      "execution_count": null,
      "outputs": [
        {
          "output_type": "stream",
          "name": "stdout",
          "text": [
            "Date 2290\n",
            "SPX 2277\n",
            "GLD 1930\n",
            "USO 1514\n",
            "SLV 1331\n",
            "EUR/USD 2066\n"
          ]
        }
      ]
    },
    {
      "cell_type": "markdown",
      "source": [
        "No Feature present with one value as per above result"
      ],
      "metadata": {
        "id": "nKxCDw1LN_MT"
      }
    },
    {
      "cell_type": "markdown",
      "source": [
        "Construct the heatmap to understand the correlation"
      ],
      "metadata": {
        "id": "LiT7j2jnPJGv"
      }
    },
    {
      "cell_type": "markdown",
      "source": [
        "Correlation\n",
        "1)Positive Correlation\n",
        "2)Negative Correlation"
      ],
      "metadata": {
        "id": "msaMZT_jQUzj"
      }
    },
    {
      "cell_type": "code",
      "source": [
        "correlation=df.corr()"
      ],
      "metadata": {
        "colab": {
          "base_uri": "https://localhost:8080/"
        },
        "id": "_SQVNm9jQjhY",
        "outputId": "54446fce-82ae-4004-f581-5eaf9fdda931"
      },
      "execution_count": null,
      "outputs": [
        {
          "output_type": "stream",
          "name": "stderr",
          "text": [
            "<ipython-input-30-0c9b4bd1cb53>:1: FutureWarning: The default value of numeric_only in DataFrame.corr is deprecated. In a future version, it will default to False. Select only valid columns or specify the value of numeric_only to silence this warning.\n",
            "  correlation=df.corr()\n"
          ]
        }
      ]
    },
    {
      "cell_type": "code",
      "source": [
        "plt.figure(figsize=(8,8))\n",
        "sns.heatmap(correlation ,cbar=True ,square=True ,fmt='.2f',annot=True, annot_kws={'size':8}, cmap='Blues')"
      ],
      "metadata": {
        "colab": {
          "base_uri": "https://localhost:8080/",
          "height": 675
        },
        "id": "NPB3kt14PJUi",
        "outputId": "c4222e24-e5a1-439f-a2df-af7060f4f31b"
      },
      "execution_count": null,
      "outputs": [
        {
          "output_type": "execute_result",
          "data": {
            "text/plain": [
              "<Axes: >"
            ]
          },
          "metadata": {},
          "execution_count": 36
        },
        {
          "output_type": "display_data",
          "data": {
            "text/plain": [
              "<Figure size 800x800 with 2 Axes>"
            ],
            "image/png": "[encoded data removed]"
          },
          "metadata": {}
        }
      ]
    },
    {
      "cell_type": "code",
      "source": [
        "#Correlation values of GLD\n",
        "print(correlation['GLD'])"
      ],
      "metadata": {
        "colab": {
          "base_uri": "https://localhost:8080/"
        },
        "id": "-BUE7ZTmTbf1",
        "outputId": "9368baab-c47e-4629-dbf0-fabe82ca9cee"
      },
      "execution_count": null,
      "outputs": [
        {
          "output_type": "stream",
          "name": "stdout",
          "text": [
            "SPX        0.049345\n",
            "GLD        1.000000\n",
            "USO       -0.186360\n",
            "SLV        0.866632\n",
            "EUR/USD   -0.024375\n",
            "Name: GLD, dtype: float64\n"
          ]
        }
      ]
    },
    {
      "cell_type": "code",
      "source": [
        "print(correlation['GLD'].sort_values(ascending=False),'\\n')"
      ],
      "metadata": {
        "colab": {
          "base_uri": "https://localhost:8080/"
        },
        "id": "ZTHPRsOnTltD",
        "outputId": "d7b376e6-fc52-427d-db09-a926fcdadada"
      },
      "execution_count": null,
      "outputs": [
        {
          "output_type": "stream",
          "name": "stdout",
          "text": [
            "GLD        1.000000\n",
            "SLV        0.866632\n",
            "SPX        0.049345\n",
            "EUR/USD   -0.024375\n",
            "USO       -0.186360\n",
            "Name: GLD, dtype: float64 \n",
            "\n"
          ]
        }
      ]
    },
    {
      "cell_type": "markdown",
      "source": [
        "As per above corelation result, Silver is heavily corelated with the gold"
      ],
      "metadata": {
        "id": "OWRjm-VnT1Q2"
      }
    },
    {
      "cell_type": "code",
      "source": [
        "#Checking the distribution of Gold Price\n",
        "sns.distplot(df['GLD'],color='brown')"
      ],
      "metadata": {
        "colab": {
          "base_uri": "https://localhost:8080/",
          "height": 662
        },
        "id": "DYX8KNScUCYj",
        "outputId": "5e8ba968-2c20-4114-8ff1-86a942e18c1c"
      },
      "execution_count": null,
      "outputs": [
        {
          "output_type": "stream",
          "name": "stderr",
          "text": [
            "<ipython-input-43-8a848ac6d50c>:2: UserWarning: \n",
            "\n",
            "`distplot` is a deprecated function and will be removed in seaborn v0.14.0.\n",
            "\n",
            "Please adapt your code to use either `displot` (a figure-level function with\n",
            "similar flexibility) or `histplot` (an axes-level function for histograms).\n",
            "\n",
            "For a guide to updating your code to use the new functions, please see\n",
            "https://gist.github.com/mwaskom/de44147ed2974457ad6372750bbe5751\n",
            "\n",
            "  sns.distplot(df['GLD'],color='brown')\n"
          ]
        },
        {
          "output_type": "execute_result",
          "data": {
            "text/plain": [
              "<Axes: xlabel='GLD', ylabel='Density'>"
            ]
          },
          "metadata": {},
          "execution_count": 43
        },
        {
          "output_type": "display_data",
          "data": {
            "text/plain": [
              "<Figure size 640x480 with 1 Axes>"
            ],
            "image/png": "[encoded data removed]"
          },
          "metadata": {}
        }
      ]
    },
    {
      "cell_type": "markdown",
      "source": [
        "**Feature Engineering**"
      ],
      "metadata": {
        "id": "2kG7KlyQVXUh"
      }
    },
    {
      "cell_type": "code",
      "source": [
        "#Dropping date and Gold column and doing Train Test split\n",
        "X=df.drop(['Date','GLD'],axis=1)\n",
        "Y=df['GLD']"
      ],
      "metadata": {
        "id": "zQw6QCrmVnnA"
      },
      "execution_count": null,
      "outputs": []
    },
    {
      "cell_type": "code",
      "source": [
        "print(X)"
      ],
      "metadata": {
        "colab": {
          "base_uri": "https://localhost:8080/"
        },
        "id": "XXHpqY_6WDUs",
        "outputId": "a86040a5-ef4e-4269-ff1b-37f4cf262179"
      },
      "execution_count": null,
      "outputs": [
        {
          "output_type": "stream",
          "name": "stdout",
          "text": [
            "              SPX        USO      SLV   EUR/USD\n",
            "0     1447.160034  78.470001  15.1800  1.471692\n",
            "1     1447.160034  78.370003  15.2850  1.474491\n",
            "2     1411.630005  77.309998  15.1670  1.475492\n",
            "3     1416.180054  75.500000  15.0530  1.468299\n",
            "4     1390.189941  76.059998  15.5900  1.557099\n",
            "...           ...        ...      ...       ...\n",
            "2285  2671.919922  14.060000  15.5100  1.186789\n",
            "2286  2697.790039  14.370000  15.5300  1.184722\n",
            "2287  2723.070068  14.410000  15.7400  1.191753\n",
            "2288  2730.129883  14.380000  15.5600  1.193118\n",
            "2289  2725.780029  14.405800  15.4542  1.182033\n",
            "\n",
            "[2290 rows x 4 columns]\n"
          ]
        }
      ]
    },
    {
      "cell_type": "code",
      "source": [
        "print(Y)"
      ],
      "metadata": {
        "colab": {
          "base_uri": "https://localhost:8080/"
        },
        "id": "4E7Q2PYVWLV1",
        "outputId": "e6f3346b-b349-48f3-c50f-eb133c8afb48"
      },
      "execution_count": null,
      "outputs": [
        {
          "output_type": "stream",
          "name": "stdout",
          "text": [
            "0        84.860001\n",
            "1        85.570000\n",
            "2        85.129997\n",
            "3        84.769997\n",
            "4        86.779999\n",
            "           ...    \n",
            "2285    124.589996\n",
            "2286    124.330002\n",
            "2287    125.180000\n",
            "2288    124.489998\n",
            "2289    122.543800\n",
            "Name: GLD, Length: 2290, dtype: float64\n"
          ]
        }
      ]
    },
    {
      "cell_type": "markdown",
      "source": [
        "Splitting Dataset"
      ],
      "metadata": {
        "id": "7EKV7skJWVhs"
      }
    },
    {
      "cell_type": "code",
      "source": [
        "x_train,x_test,y_train,y_test=train_test_split(X,Y,test_size=0.2,random_state=2)"
      ],
      "metadata": {
        "id": "cvJrqz_tWXk1"
      },
      "execution_count": null,
      "outputs": []
    },
    {
      "cell_type": "code",
      "source": [
        "len(x_train)"
      ],
      "metadata": {
        "colab": {
          "base_uri": "https://localhost:8080/"
        },
        "id": "Pj2eo25wW94u",
        "outputId": "aead5fca-48ea-4919-b43d-db6b89dfaf1d"
      },
      "execution_count": null,
      "outputs": [
        {
          "output_type": "execute_result",
          "data": {
            "text/plain": [
              "1832"
            ]
          },
          "metadata": {},
          "execution_count": 54
        }
      ]
    },
    {
      "cell_type": "code",
      "source": [
        "len(x_test)"
      ],
      "metadata": {
        "colab": {
          "base_uri": "https://localhost:8080/"
        },
        "id": "9A9AlLp_W__N",
        "outputId": "06d8203e-5e7b-4e99-e08f-077112a466fd"
      },
      "execution_count": null,
      "outputs": [
        {
          "output_type": "execute_result",
          "data": {
            "text/plain": [
              "458"
            ]
          },
          "metadata": {},
          "execution_count": 55
        }
      ]
    },
    {
      "cell_type": "code",
      "source": [
        "x_train"
      ],
      "metadata": {
        "colab": {
          "base_uri": "https://localhost:8080/",
          "height": 423
        },
        "id": "3wPMHRxAXC8L",
        "outputId": "08b289a8-ce09-4150-8ec3-7ae798523446"
      },
      "execution_count": null,
      "outputs": [
        {
          "output_type": "execute_result",
          "data": {
            "text/plain": [
              "              SPX        USO        SLV   EUR/USD\n",
              "476   1138.500000  39.790001  16.889999  1.361693\n",
              "1958  2202.939941  10.630000  15.800000  1.063886\n",
              "248    700.820007  24.480000  12.770000  1.256408\n",
              "2231  2656.000000  11.890000  15.570000  1.225280\n",
              "1325  1838.880005  33.040001  19.420000  1.366998\n",
              "...           ...        ...        ...       ...\n",
              "1071  1409.150024  32.320000  32.980000  1.287515\n",
              "433   1132.989990  40.270000  17.230000  1.442398\n",
              "674   1286.119995  38.610001  27.389999  1.357276\n",
              "1099  1461.890015  33.919998  29.180000  1.306745\n",
              "1608  2092.429932  18.500000  15.600000  1.057295\n",
              "\n",
              "[1832 rows x 4 columns]"
            ],
            "text/html": [
              "\n",
              "  <div id=\"df-759c774c-cc5f-44ea-bfdf-857cfa92585e\">\n",
              "    <div class=\"colab-df-container\">\n",
              "      <div>\n",
              "<style scoped>\n",
              "    .dataframe tbody tr th:only-of-type {\n",
              "        vertical-align: middle;\n",
              "    }\n",
              "\n",
              "    .dataframe tbody tr th {\n",
              "        vertical-align: top;\n",
              "    }\n",
              "\n",
              "    .dataframe thead th {\n",
              "        text-align: right;\n",
              "    }\n",
              "</style>\n",
              "<table border=\"1\" class=\"dataframe\">\n",
              "  <thead>\n",
              "    <tr style=\"text-align: right;\">\n",
              "      <th></th>\n",
              "      <th>SPX</th>\n",
              "      <th>USO</th>\n",
              "      <th>SLV</th>\n",
              "      <th>EUR/USD</th>\n",
              "    </tr>\n",
              "  </thead>\n",
              "  <tbody>\n",
              "    <tr>\n",
              "      <th>476</th>\n",
              "      <td>1138.500000</td>\n",
              "      <td>39.790001</td>\n",
              "      <td>16.889999</td>\n",
              "      <td>1.361693</td>\n",
              "    </tr>\n",
              "    <tr>\n",
              "      <th>1958</th>\n",
              "      <td>2202.939941</td>\n",
              "      <td>10.630000</td>\n",
              "      <td>15.800000</td>\n",
              "      <td>1.063886</td>\n",
              "    </tr>\n",
              "    <tr>\n",
              "      <th>248</th>\n",
              "      <td>700.820007</td>\n",
              "      <td>24.480000</td>\n",
              "      <td>12.770000</td>\n",
              "      <td>1.256408</td>\n",
              "    </tr>\n",
              "    <tr>\n",
              "      <th>2231</th>\n",
              "      <td>2656.000000</td>\n",
              "      <td>11.890000</td>\n",
              "      <td>15.570000</td>\n",
              "      <td>1.225280</td>\n",
              "    </tr>\n",
              "    <tr>\n",
              "      <th>1325</th>\n",
              "      <td>1838.880005</td>\n",
              "      <td>33.040001</td>\n",
              "      <td>19.420000</td>\n",
              "      <td>1.366998</td>\n",
              "    </tr>\n",
              "    <tr>\n",
              "      <th>...</th>\n",
              "      <td>...</td>\n",
              "      <td>...</td>\n",
              "      <td>...</td>\n",
              "      <td>...</td>\n",
              "    </tr>\n",
              "    <tr>\n",
              "      <th>1071</th>\n",
              "      <td>1409.150024</td>\n",
              "      <td>32.320000</td>\n",
              "      <td>32.980000</td>\n",
              "      <td>1.287515</td>\n",
              "    </tr>\n",
              "    <tr>\n",
              "      <th>433</th>\n",
              "      <td>1132.989990</td>\n",
              "      <td>40.270000</td>\n",
              "      <td>17.230000</td>\n",
              "      <td>1.442398</td>\n",
              "    </tr>\n",
              "    <tr>\n",
              "      <th>674</th>\n",
              "      <td>1286.119995</td>\n",
              "      <td>38.610001</td>\n",
              "      <td>27.389999</td>\n",
              "      <td>1.357276</td>\n",
              "    </tr>\n",
              "    <tr>\n",
              "      <th>1099</th>\n",
              "      <td>1461.890015</td>\n",
              "      <td>33.919998</td>\n",
              "      <td>29.180000</td>\n",
              "      <td>1.306745</td>\n",
              "    </tr>\n",
              "    <tr>\n",
              "      <th>1608</th>\n",
              "      <td>2092.429932</td>\n",
              "      <td>18.500000</td>\n",
              "      <td>15.600000</td>\n",
              "      <td>1.057295</td>\n",
              "    </tr>\n",
              "  </tbody>\n",
              "</table>\n",
              "<p>1832 rows × 4 columns</p>\n",
              "</div>\n",
              "      <button class=\"colab-df-convert\" onclick=\"convertToInteractive('df-759c774c-cc5f-44ea-bfdf-857cfa92585e')\"\n",
              "              title=\"Convert this dataframe to an interactive table.\"\n",
              "              style=\"display:none;\">\n",
              "        \n",
              "  <svg xmlns=\"http://www.w3.org/2000/svg\" height=\"24px\"viewBox=\"0 0 24 24\"\n",
              "       width=\"24px\">\n",
              "    <path d=\"M0 0h24v24H0V0z\" fill=\"none\"/>\n",
              "    <path d=\"M18.56 5.44l.94 2.06.94-2.06 2.06-.94-2.06-.94-.94-2.06-.94 2.06-2.06.94zm-11 1L8.5 8.5l.94-2.06 2.06-.94-2.06-.94L8.5 2.5l-.94 2.06-2.06.94zm10 10l.94 2.06.94-2.06 2.06-.94-2.06-.94-.94-2.06-.94 2.06-2.06.94z\"/><path d=\"M17.41 7.96l-1.37-1.37c-.4-.4-.92-.59-1.43-.59-.52 0-1.04.2-1.43.59L10.3 9.45l-7.72 7.72c-.78.78-.78 2.05 0 2.83L4 21.41c.39.39.9.59 1.41.59.51 0 1.02-.2 1.41-.59l7.78-7.78 2.81-2.81c.8-.78.8-2.07 0-2.86zM5.41 20L4 18.59l7.72-7.72 1.47 1.35L5.41 20z\"/>\n",
              "  </svg>\n",
              "      </button>\n",
              "      \n",
              "  <style>\n",
              "    .colab-df-container {\n",
              "      display:flex;\n",
              "      flex-wrap:wrap;\n",
              "      gap: 12px;\n",
              "    }\n",
              "\n",
              "    .colab-df-convert {\n",
              "      background-color: #E8F0FE;\n",
              "      border: none;\n",
              "      border-radius: 50%;\n",
              "      cursor: pointer;\n",
              "      display: none;\n",
              "      fill: #1967D2;\n",
              "      height: 32px;\n",
              "      padding: 0 0 0 0;\n",
              "      width: 32px;\n",
              "    }\n",
              "\n",
              "    .colab-df-convert:hover {\n",
              "      background-color: #E2EBFA;\n",
              "      box-shadow: 0px 1px 2px rgba(60, 64, 67, 0.3), 0px 1px 3px 1px rgba(60, 64, 67, 0.15);\n",
              "      fill: #174EA6;\n",
              "    }\n",
              "\n",
              "    [theme=dark] .colab-df-convert {\n",
              "      background-color: #3B4455;\n",
              "      fill: #D2E3FC;\n",
              "    }\n",
              "\n",
              "    [theme=dark] .colab-df-convert:hover {\n",
              "      background-color: #434B5C;\n",
              "      box-shadow: 0px 1px 3px 1px rgba(0, 0, 0, 0.15);\n",
              "      filter: drop-shadow(0px 1px 2px rgba(0, 0, 0, 0.3));\n",
              "      fill: #FFFFFF;\n",
              "    }\n",
              "  </style>\n",
              "\n",
              "      <script>\n",
              "        const buttonEl =\n",
              "          document.querySelector('#df-759c774c-cc5f-44ea-bfdf-857cfa92585e button.colab-df-convert');\n",
              "        buttonEl.style.display =\n",
              "          google.colab.kernel.accessAllowed ? 'block' : 'none';\n",
              "\n",
              "        async function convertToInteractive(key) {\n",
              "          const element = document.querySelector('#df-759c774c-cc5f-44ea-bfdf-857cfa92585e');\n",
              "          const dataTable =\n",
              "            await google.colab.kernel.invokeFunction('convertToInteractive',\n",
              "                                                     [key], {});\n",
              "          if (!dataTable) return;\n",
              "\n",
              "          const docLinkHtml = 'Like what you see? Visit the ' +\n",
              "            '<a target=\"_blank\" href=https://colab.research.google.com/notebooks/data_table.ipynb>data table notebook</a>'\n",
              "            + ' to learn more about interactive tables.';\n",
              "          element.innerHTML = '';\n",
              "          dataTable['output_type'] = 'display_data';\n",
              "          await google.colab.output.renderOutput(dataTable, element);\n",
              "          const docLink = document.createElement('div');\n",
              "          docLink.innerHTML = docLinkHtml;\n",
              "          element.appendChild(docLink);\n",
              "        }\n",
              "      </script>\n",
              "    </div>\n",
              "  </div>\n",
              "  "
            ]
          },
          "metadata": {},
          "execution_count": 56
        }
      ]
    },
    {
      "cell_type": "markdown",
      "source": [
        "Model Training :Random Forest Regressor"
      ],
      "metadata": {
        "id": "HMstHqx1XHs7"
      }
    },
    {
      "cell_type": "code",
      "source": [
        "regressor_model=RandomForestRegressor(n_estimators=100)\n",
        "\n"
      ],
      "metadata": {
        "id": "OgHhg5AtXFmE"
      },
      "execution_count": null,
      "outputs": []
    },
    {
      "cell_type": "code",
      "source": [
        "#Training the model\n",
        "regressor_model.fit(x_train,y_train)\n",
        "\n",
        "\n"
      ],
      "metadata": {
        "colab": {
          "base_uri": "https://localhost:8080/",
          "height": 74
        },
        "id": "pwEEKJihZMcD",
        "outputId": "963de3ee-65ad-429a-ef12-b13c637b2a7c"
      },
      "execution_count": null,
      "outputs": [
        {
          "output_type": "execute_result",
          "data": {
            "text/plain": [
              "RandomForestRegressor()"
            ],
            "text/html": [
              "<style>#sk-container-id-3 {color: black;background-color: white;}#sk-container-id-3 pre{padding: 0;}#sk-container-id-3 div.sk-toggleable {background-color: white;}#sk-container-id-3 label.sk-toggleable__label {cursor: pointer;display: block;width: 100%;margin-bottom: 0;padding: 0.3em;box-sizing: border-box;text-align: center;}#sk-container-id-3 label.sk-toggleable__label-arrow:before {content: \"▸\";float: left;margin-right: 0.25em;color: #696969;}#sk-container-id-3 label.sk-toggleable__label-arrow:hover:before {color: black;}#sk-container-id-3 div.sk-estimator:hover label.sk-toggleable__label-arrow:before {color: black;}#sk-container-id-3 div.sk-toggleable__content {max-height: 0;max-width: 0;overflow: hidden;text-align: left;background-color: #f0f8ff;}#sk-container-id-3 div.sk-toggleable__content pre {margin: 0.2em;color: black;border-radius: 0.25em;background-color: #f0f8ff;}#sk-container-id-3 input.sk-toggleable__control:checked~div.sk-toggleable__content {max-height: 200px;max-width: 100%;overflow: auto;}#sk-container-id-3 input.sk-toggleable__control:checked~label.sk-toggleable__label-arrow:before {content: \"▾\";}#sk-container-id-3 div.sk-estimator input.sk-toggleable__control:checked~label.sk-toggleable__label {background-color: #d4ebff;}#sk-container-id-3 div.sk-label input.sk-toggleable__control:checked~label.sk-toggleable__label {background-color: #d4ebff;}#sk-container-id-3 input.sk-hidden--visually {border: 0;clip: rect(1px 1px 1px 1px);clip: rect(1px, 1px, 1px, 1px);height: 1px;margin: -1px;overflow: hidden;padding: 0;position: absolute;width: 1px;}#sk-container-id-3 div.sk-estimator {font-family: monospace;background-color: #f0f8ff;border: 1px dotted black;border-radius: 0.25em;box-sizing: border-box;margin-bottom: 0.5em;}#sk-container-id-3 div.sk-estimator:hover {background-color: #d4ebff;}#sk-container-id-3 div.sk-parallel-item::after {content: \"\";width: 100%;border-bottom: 1px solid gray;flex-grow: 1;}#sk-container-id-3 div.sk-label:hover label.sk-toggleable__label {background-color: #d4ebff;}#sk-container-id-3 div.sk-serial::before {content: \"\";position: absolute;border-left: 1px solid gray;box-sizing: border-box;top: 0;bottom: 0;left: 50%;z-index: 0;}#sk-container-id-3 div.sk-serial {display: flex;flex-direction: column;align-items: center;background-color: white;padding-right: 0.2em;padding-left: 0.2em;position: relative;}#sk-container-id-3 div.sk-item {position: relative;z-index: 1;}#sk-container-id-3 div.sk-parallel {display: flex;align-items: stretch;justify-content: center;background-color: white;position: relative;}#sk-container-id-3 div.sk-item::before, #sk-container-id-3 div.sk-parallel-item::before {content: \"\";position: absolute;border-left: 1px solid gray;box-sizing: border-box;top: 0;bottom: 0;left: 50%;z-index: -1;}#sk-container-id-3 div.sk-parallel-item {display: flex;flex-direction: column;z-index: 1;position: relative;background-color: white;}#sk-container-id-3 div.sk-parallel-item:first-child::after {align-self: flex-end;width: 50%;}#sk-container-id-3 div.sk-parallel-item:last-child::after {align-self: flex-start;width: 50%;}#sk-container-id-3 div.sk-parallel-item:only-child::after {width: 0;}#sk-container-id-3 div.sk-dashed-wrapped {border: 1px dashed gray;margin: 0 0.4em 0.5em 0.4em;box-sizing: border-box;padding-bottom: 0.4em;background-color: white;}#sk-container-id-3 div.sk-label label {font-family: monospace;font-weight: bold;display: inline-block;line-height: 1.2em;}#sk-container-id-3 div.sk-label-container {text-align: center;}#sk-container-id-3 div.sk-container {/* jupyter's `normalize.less` sets `[hidden] { display: none; }` but bootstrap.min.css set `[hidden] { display: none !important; }` so we also need the `!important` here to be able to override the default hidden behavior on the sphinx rendered scikit-learn.org. See: https://github.com/scikit-learn/scikit-learn/issues/21755 */display: inline-block !important;position: relative;}#sk-container-id-3 div.sk-text-repr-fallback {display: none;}</style><div id=\"sk-container-id-3\" class=\"sk-top-container\"><div class=\"sk-text-repr-fallback\"><pre>RandomForestRegressor()</pre><b>In a Jupyter environment, please rerun this cell to show the HTML representation or trust the notebook. <br />On GitHub, the HTML representation is unable to render, please try loading this page with nbviewer.org.</b></div><div class=\"sk-container\" hidden><div class=\"sk-item\"><div class=\"sk-estimator sk-toggleable\"><input class=\"sk-toggleable__control sk-hidden--visually\" id=\"sk-estimator-id-3\" type=\"checkbox\" checked><label for=\"sk-estimator-id-3\" class=\"sk-toggleable__label sk-toggleable__label-arrow\">RandomForestRegressor</label><div class=\"sk-toggleable__content\"><pre>RandomForestRegressor()</pre></div></div></div></div></div>"
            ]
          },
          "metadata": {},
          "execution_count": 89
        }
      ]
    },
    {
      "cell_type": "markdown",
      "source": [
        "Model Evaluation"
      ],
      "metadata": {
        "id": "xHBIjXDcccCJ"
      }
    },
    {
      "cell_type": "code",
      "source": [
        "#Prediction on Test data\n",
        "test_data_pred=regressor_model.predict(x_test)"
      ],
      "metadata": {
        "id": "FnL_AtAHceJq"
      },
      "execution_count": null,
      "outputs": []
    },
    {
      "cell_type": "code",
      "source": [
        "#Accuracy score of model\n",
        "regressor_model.score(x_test,y_test)"
      ],
      "metadata": {
        "colab": {
          "base_uri": "https://localhost:8080/"
        },
        "id": "f9Ebgc3KhlLy",
        "outputId": "ffe7949a-8ace-479c-82d9-863c18d2cbfd"
      },
      "execution_count": null,
      "outputs": [
        {
          "output_type": "execute_result",
          "data": {
            "text/plain": [
              "0.9890317783783712"
            ]
          },
          "metadata": {},
          "execution_count": 91
        }
      ]
    },
    {
      "cell_type": "code",
      "source": [
        "print(test_data_pred)"
      ],
      "metadata": {
        "colab": {
          "base_uri": "https://localhost:8080/"
        },
        "id": "fJpGnGsMcn6z",
        "outputId": "8aeb6a94-230d-4b2f-8328-425fc3ea459e"
      },
      "execution_count": null,
      "outputs": [
        {
          "output_type": "stream",
          "name": "stdout",
          "text": [
            "[168.56529941  82.19329972 116.04429986 127.69540067 120.71670151\n",
            " 154.8612982  150.36979825 126.16930014 117.53599871 125.98950075\n",
            " 116.5624009  171.92580141 142.0363982  167.78039823 115.16740023\n",
            " 117.61540037 139.12630358 170.46920081 159.2460026  158.86709951\n",
            " 155.09989997 125.38960047 176.04189981 157.41320331 125.22360048\n",
            "  93.85469979  77.04110045 120.85399995 119.0561994  167.55389965\n",
            "  88.32470056 125.35660011  91.22830094 117.69050019 121.15459915\n",
            " 136.66070089 115.38150141 114.69260093 149.79779999 107.20970103\n",
            " 104.36720242  87.08479771 126.49810049 117.94139988 152.61539869\n",
            " 119.51320004 108.31049964 108.10399862  93.15430076 127.07229802\n",
            "  75.12560046 113.5399989  121.30559994 111.34949904 118.83999871\n",
            " 120.24039968 159.26319913 168.41670102 147.22069638  86.02809854\n",
            "  94.45470075  86.80149861  90.7068003  118.98300087 126.41530054\n",
            " 127.71940013 169.90039988 122.28709929 117.48749881  98.77400031\n",
            " 168.42950166 142.77419837 132.10340235 121.17180215 121.16329932\n",
            " 119.79750069 114.34210168 118.09920069 107.02930094 127.95410018\n",
            " 113.74979946 107.55600008 116.93850064 119.86469897  88.97860057\n",
            "  88.33569883 146.14980228 127.19979991 113.53220063 109.40259826\n",
            " 108.23889891  76.99569911 169.24490158 114.1033991  121.60499871\n",
            " 127.71150167 154.7801985   91.67199929 135.67060102 158.64180294\n",
            " 125.2022006  125.33470073 130.63050098 114.64790125 119.89339985\n",
            "  92.09109978 110.26509892 166.96159968 157.78729872 114.1615994\n",
            " 106.6711014   79.84819986 113.33760039 125.73840088 106.99379963\n",
            " 119.10840116 155.84520296 159.49090002 120.35089967 135.4559025\n",
            " 101.23380018 117.71889802 119.14350016 113.06020107 102.79859879\n",
            " 160.47359788  98.49560032 147.37169983 125.43890104 169.74849961\n",
            " 125.56939906 127.3735976  127.36900136 113.74059937 113.06220089\n",
            " 123.51349881 102.29399919  89.38890019 124.71709933 101.88049925\n",
            " 107.18899886 113.62100059 117.12880057  99.33489968 121.70190036\n",
            " 164.00179846  87.15899834 106.81629937 117.3288005  127.75310069\n",
            " 123.93850055  80.7576991  120.36480055 159.17099796  87.88779992\n",
            " 110.38319926 119.00299898 172.66389915 103.02409895 106.33090034\n",
            " 122.5069001  159.2825975   87.65929834  93.67490091 112.45580043\n",
            " 177.52459966 114.55189974 119.2874001   94.51890089 125.6676001\n",
            " 165.96390147 114.82330058 116.71970144  88.43859879 149.16730051\n",
            " 120.35929947  89.56759996 111.98229981 117.27220007 118.84400127\n",
            "  88.18759945  93.9221996  117.16510065 118.60990169 120.30400003\n",
            " 126.87949813 121.98119987 150.53150037 164.22760142 118.64099922\n",
            " 120.38250142 151.60910077 118.49159913 172.59529929 105.98889904\n",
            " 104.93630117 149.92300045 113.87270045 124.92430117 147.14289934\n",
            " 119.72920123 115.51890047 112.6384998  113.33540194 140.38550088\n",
            " 117.84059768 102.9601004  115.90620118 103.89350198  98.72200045\n",
            " 117.37070067  90.63540023  91.48260067 153.6013988  102.70329963\n",
            " 154.88990094 114.39180146 139.021801    90.12579847 115.48829935\n",
            " 114.5168995  123.1210001  121.77820037 165.37670132  92.94159938\n",
            " 135.27800105 121.27359955 120.79320065 104.54660023 142.31700323\n",
            " 121.54419892 116.62970041 113.45310099 127.14149691 122.55829948\n",
            " 125.696199   121.17550064  86.88779903 132.33110213 145.3651022\n",
            "  92.69529948 157.52689964 158.43850125 126.41179863 164.76579939\n",
            " 108.69059969 109.26630109 103.66149848  94.03410068 127.42930239\n",
            " 107.20660087 160.14229986 121.74850031 131.98850037 130.68880131\n",
            " 160.52749923  90.15849871 175.25640175 127.12500049 126.77439873\n",
            "  86.35459922 124.59799904 150.37209756  89.66350016 106.82169967\n",
            " 108.86810004  84.24499926 135.7843003  154.87890288 139.05300328\n",
            "  73.82190028 152.559901   126.07310011 126.78020003 127.51349861\n",
            " 108.55399928 156.44400047 114.40020117 116.91430107 125.49979975\n",
            " 153.73270149 121.25929971 156.41859882  92.96050053 125.47990124\n",
            " 125.77770011  87.77900033  92.16519947 126.21839903 128.32890363\n",
            " 113.24760094 117.92569747 120.99540007 127.10259765 119.79870137\n",
            " 136.62900104  93.96299925 119.96610031 113.15630099  94.25509934\n",
            " 108.89689979  86.98069938 109.08629932  89.68299993  92.44140032\n",
            " 131.63260315 162.29830058  89.37980013 119.79070069 133.20510233\n",
            " 123.87440024 128.11920211 101.97259842  88.82159842 131.76320051\n",
            " 119.76940072 108.7847999  168.4098008  115.23930033  86.68369905\n",
            " 118.94250052  90.94329976 161.95539954 116.4768005  121.50839994\n",
            " 160.39079816 120.17479927 112.98789954 108.42229849 126.7607001\n",
            "  76.02720038 103.01789979 127.39940273 121.67699895  92.68050003\n",
            " 132.13669997 118.19940128 115.79170011 154.33590248 159.49480104\n",
            " 109.94739998 155.25469813 119.34930078 160.64170141 118.59430025\n",
            " 158.16429957 115.16549917 116.41150021 149.57899978 114.70590057\n",
            " 125.89589853 164.24699981 117.87630006 124.9950992  152.96540358\n",
            " 153.40710293 132.32640172 114.76400022 121.34770187 124.93200068\n",
            "  89.66760056 123.05990035 154.90560182 111.75790015 106.70839943\n",
            " 162.12880085 118.54800019 165.60799999 133.94460072 114.90789991\n",
            " 152.98239895 168.81549971 115.04360012 114.07960102 157.72689778\n",
            "  85.19579875 127.22900057 127.91740039 128.95820038 124.39910072\n",
            " 123.91020044  90.78210059 153.14760084  97.08499974 137.13599979\n",
            "  89.10429949 107.46100022 115.0692004  112.75080104 123.9609994\n",
            "  91.48869886 125.33700104 162.19939893 119.84439917 165.20710035\n",
            " 126.98959784 112.51349997 127.56879946  94.91179952  90.89909998\n",
            " 103.49729893 120.80489998  83.1246996  126.31800027 160.44450408\n",
            " 117.34380088 118.37949991 120.02120024 122.44929963 120.09290148\n",
            " 121.51639983 118.35810037 107.11330021 148.01769934 126.00059874\n",
            " 115.80490086  74.06500007 127.82510119 154.1919007  122.41520019\n",
            " 125.55190069  88.94510016 104.04269872 125.00620042 120.27350009\n",
            "  73.59080074 151.13769944 121.1602003  104.74829983  86.54029755\n",
            " 115.13189884 172.23809881 119.97460038 159.75909783 113.29719938\n",
            " 121.27940072 118.56740098  95.92149995 118.67780041 126.04920043\n",
            " 118.4593995   96.21390092 154.10370173 122.13100035 147.46969937\n",
            " 159.68320258 113.78030016 122.46569941 150.26159793 127.02320014\n",
            " 166.11340031 135.98710041 119.99319982 167.02059808 108.33039954\n",
            " 121.84499843 139.90850173 106.88599866]\n"
          ]
        }
      ]
    },
    {
      "cell_type": "code",
      "source": [
        "#R square error to compare X predicted and actual values\n",
        "error_score=metrics.r2_score(y_test,test_data_pred)\n",
        "print(\"R squared error:\" , error_score)\n"
      ],
      "metadata": {
        "colab": {
          "base_uri": "https://localhost:8080/"
        },
        "id": "cocRrXZ6cs1S",
        "outputId": "196a3e07-6b70-4d7f-b579-785154a940e7"
      },
      "execution_count": null,
      "outputs": [
        {
          "output_type": "stream",
          "name": "stdout",
          "text": [
            "R squared error: 0.9889969648983389\n"
          ]
        }
      ]
    },
    {
      "cell_type": "markdown",
      "source": [
        "Compare actual and predicted values using Plot"
      ],
      "metadata": {
        "id": "ZD0K0h_RdOS5"
      }
    },
    {
      "cell_type": "code",
      "source": [
        "Y_test=list(y_test)"
      ],
      "metadata": {
        "id": "8LsYwxfsdQpF"
      },
      "execution_count": null,
      "outputs": []
    },
    {
      "cell_type": "code",
      "source": [
        "plt.plot(Y_test,color='Red',label='Actual Value')\n",
        "plt.plot(test_data_pred,color='Green',label='Predicted Value')\n",
        "plt.title('Actual Price Vs Predicted Price')\n",
        "plt.xlabel('Number of Values')\n",
        "plt.ylabel('GLD Price')\n",
        "plt.legend()\n",
        "plt.show()"
      ],
      "metadata": {
        "colab": {
          "base_uri": "https://localhost:8080/",
          "height": 472
        },
        "id": "P6AnslMvdV8a",
        "outputId": "ec2f7e3c-7ed1-41d3-da30-e5f6253cd0b2"
      },
      "execution_count": null,
      "outputs": [
        {
          "output_type": "display_data",
          "data": {
            "text/plain": [
              "<Figure size 640x480 with 1 Axes>"
            ],
            "image/png": "[encoded data removed]"
          },
          "metadata": {}
        }
      ]
    },
    {
      "cell_type": "markdown",
      "source": [
        "Model Prediction using XGBRegressor"
      ],
      "metadata": {
        "id": "wsRYZnbUelE_"
      }
    },
    {
      "cell_type": "code",
      "source": [
        "from xgboost import XGBRegressor\n",
        "model_xgb=XGBRegressor(learning_rate=0.5,max_depth=3,n_estimator=200)\n",
        "\n",
        "\n"
      ],
      "metadata": {
        "id": "9SE_zx7_gQYO"
      },
      "execution_count": null,
      "outputs": []
    },
    {
      "cell_type": "code",
      "source": [
        "#Finding Accuracy Score using XGBRegressor\n",
        "model_xgb.fit(x_train,y_train)\n",
        "model_xgb.score(x_test,y_test)"
      ],
      "metadata": {
        "colab": {
          "base_uri": "https://localhost:8080/"
        },
        "id": "YzfkCf63g7bp",
        "outputId": "7ea78fb4-9ff9-4f0d-e72d-ec81bbb7b748"
      },
      "execution_count": null,
      "outputs": [
        {
          "output_type": "stream",
          "name": "stdout",
          "text": [
            "[00:19:14] WARNING: ../src/learner.cc:767: \n",
            "Parameters: { \"n_estimator\" } are not used.\n",
            "\n"
          ]
        },
        {
          "output_type": "execute_result",
          "data": {
            "text/plain": [
              "0.9820480798083607"
            ]
          },
          "metadata": {},
          "execution_count": 81
        }
      ]
    },
    {
      "cell_type": "code",
      "source": [
        "y_pred=model_xgb.predict(x_test)"
      ],
      "metadata": {
        "id": "UVkpWJuOg3xr"
      },
      "execution_count": null,
      "outputs": []
    },
    {
      "cell_type": "code",
      "source": [
        "y_pred"
      ],
      "metadata": {
        "colab": {
          "base_uri": "https://localhost:8080/"
        },
        "id": "3sDnUV9rhQMj",
        "outputId": "65aea6ad-0ae5-46f3-b133-bed7b744f71f"
      },
      "execution_count": null,
      "outputs": [
        {
          "output_type": "execute_result",
          "data": {
            "text/plain": [
              "array([168.62263 ,  80.59307 , 115.85037 , 127.2576  , 121.15055 ,\n",
              "       155.26175 , 150.95514 , 126.17945 , 118.72211 , 127.167015,\n",
              "       116.10037 , 171.95297 , 141.36809 , 165.07687 , 113.70683 ,\n",
              "       118.22905 , 143.73479 , 169.13022 , 155.01312 , 161.28792 ,\n",
              "       155.13303 , 124.03702 , 178.65161 , 155.33894 , 125.44054 ,\n",
              "        97.0436  ,  78.94743 , 120.55446 , 119.42358 , 169.1889  ,\n",
              "        86.80694 , 125.05137 ,  94.33913 , 117.92317 , 121.685135,\n",
              "       141.55693 , 117.2706  , 115.8327  , 143.58603 , 108.57666 ,\n",
              "       102.06441 ,  86.44486 , 126.276405, 115.75553 , 149.65114 ,\n",
              "       120.29983 , 110.586716, 106.94644 ,  92.591774, 126.68837 ,\n",
              "        72.61699 , 113.56118 , 119.18169 , 112.05618 , 120.245285,\n",
              "       121.54334 , 156.48586 , 172.75974 , 146.78737 ,  86.53828 ,\n",
              "        94.67445 ,  86.8147  ,  88.84949 , 116.9509  , 126.81164 ,\n",
              "       127.50857 , 164.98816 , 121.95286 , 117.04007 ,  98.64427 ,\n",
              "       168.91165 , 142.8934  , 135.89645 , 121.09903 , 122.637276,\n",
              "       120.15085 , 114.89373 , 118.40142 , 108.60387 , 127.88631 ,\n",
              "       116.092255, 104.67323 , 115.742966, 119.86426 ,  87.328   ,\n",
              "        88.72555 , 141.69826 , 127.895836, 115.22324 , 110.258865,\n",
              "       106.31818 ,  76.0052  , 165.91628 , 114.176346, 122.11313 ,\n",
              "       125.62376 , 155.03795 ,  90.38249 , 139.30203 , 155.9437  ,\n",
              "       126.98067 , 126.474915, 134.27234 , 115.128   , 120.76663 ,\n",
              "        94.23412 , 112.025055, 153.57368 , 153.27052 , 114.347084,\n",
              "       101.40628 ,  76.04836 , 112.89453 , 125.416534, 106.31025 ,\n",
              "       119.08951 , 152.30766 , 158.32634 , 119.41547 , 134.17148 ,\n",
              "        99.76935 , 117.26491 , 118.63634 , 111.90886 , 102.65626 ,\n",
              "       160.83215 ,  97.160385, 150.52141 , 126.99938 , 169.43431 ,\n",
              "       126.3944  , 127.25154 , 126.1937  , 115.1902  , 112.50929 ,\n",
              "       124.17899 , 103.303856,  90.00176 , 123.82044 , 103.53804 ,\n",
              "       102.80015 , 112.758896, 117.35418 , 101.56908 , 122.84487 ,\n",
              "       161.2064  ,  86.53828 , 106.716125, 117.32801 , 127.48677 ,\n",
              "       125.32153 ,  80.97303 , 118.59866 , 158.41917 ,  89.21242 ,\n",
              "       108.57666 , 119.93542 , 173.42938 , 102.271484, 104.72907 ,\n",
              "       122.38045 , 157.574   ,  88.25262 ,  92.620766, 113.96511 ,\n",
              "       177.69981 , 113.350174, 118.63634 ,  93.40643 , 125.47687 ,\n",
              "       168.26926 , 115.128   , 117.32801 ,  88.90624 , 149.2943  ,\n",
              "       121.903465,  90.130005, 113.57533 , 114.83449 , 119.42136 ,\n",
              "        88.03301 ,  92.5054  , 117.085434, 119.534164, 120.0765  ,\n",
              "       127.37962 , 122.683975, 160.52728 , 164.60252 , 119.8516  ,\n",
              "       120.96534 , 149.31184 , 120.52965 , 172.05011 , 105.304245,\n",
              "       105.017075, 148.18742 , 113.66754 , 124.92319 , 150.69354 ,\n",
              "       121.3669  , 115.22606 , 107.0175  , 114.06754 , 141.36461 ,\n",
              "       117.93018 , 104.93    , 116.115326, 102.92598 ,  98.58245 ,\n",
              "       116.797516,  92.754425,  92.73361 , 154.93149 , 102.38092 ,\n",
              "       153.49187 , 114.06754 , 137.54698 ,  91.77321 , 116.19731 ,\n",
              "       113.68819 , 121.50757 , 121.70939 , 164.82613 ,  94.84182 ,\n",
              "       132.84804 , 121.817795, 119.24746 , 104.71078 , 144.89859 ,\n",
              "       120.91046 , 115.704865, 113.01769 , 126.91856 , 122.65284 ,\n",
              "       125.79703 , 121.87525 ,  85.81611 , 131.22002 , 146.54976 ,\n",
              "        94.0571  , 154.51115 , 155.70451 , 127.261475, 164.88588 ,\n",
              "       109.47132 , 115.87933 , 103.313934,  94.585304, 127.22401 ,\n",
              "       107.22734 , 159.4824  , 122.22276 , 132.48415 , 132.89828 ,\n",
              "       159.90884 ,  88.99945 , 177.49762 , 125.74337 , 126.91856 ,\n",
              "        85.14851 , 127.45342 , 151.76088 ,  90.130005, 108.17745 ,\n",
              "       108.169945,  83.94315 , 135.94627 , 157.72809 , 132.72406 ,\n",
              "        74.95023 , 151.77458 , 125.83459 , 126.84274 , 127.34887 ,\n",
              "       103.42171 , 156.9849  , 114.8773  , 116.79152 , 124.387245,\n",
              "       153.2531  , 121.43551 , 155.7634  ,  93.03369 , 125.669914,\n",
              "       124.52652 ,  87.90581 ,  91.1598  , 127.645424, 127.09703 ,\n",
              "       111.68753 , 118.23452 , 120.03683 , 126.91856 , 120.04522 ,\n",
              "       141.11378 ,  94.95818 , 120.59818 , 112.835236,  95.38951 ,\n",
              "       109.1479  ,  85.592354, 109.21231 ,  85.6146  ,  94.02781 ,\n",
              "       131.37134 , 166.92046 ,  88.55465 , 119.32241 , 132.01059 ,\n",
              "       122.84917 , 129.58026 , 102.1103  ,  88.55465 , 128.77307 ,\n",
              "       120.814476, 109.98959 , 161.7366  , 116.05434 ,  85.58238 ,\n",
              "       118.28919 ,  93.66229 , 162.38855 , 116.005646, 122.073006,\n",
              "       162.44408 , 119.72003 , 111.65572 , 108.16496 , 126.64292 ,\n",
              "        79.7592  , 104.40119 , 126.22088 , 123.46519 ,  92.822525,\n",
              "       135.84137 , 117.84536 , 118.17509 , 156.83351 , 155.66858 ,\n",
              "       110.4688  , 149.8433  , 120.24374 , 157.52425 , 118.041046,\n",
              "       155.59526 , 116.13632 , 118.26941 , 148.87498 , 114.99171 ,\n",
              "       124.06758 , 163.15692 , 116.70426 , 124.587845, 156.21631 ,\n",
              "       154.75975 , 131.37483 , 115.62858 , 120.22955 , 123.370224,\n",
              "        89.04744 , 121.6235  , 153.54715 , 111.357635, 107.17733 ,\n",
              "       161.23679 , 119.10223 , 166.89305 , 132.1313  , 114.49381 ,\n",
              "       152.95692 , 169.46643 , 119.35287 , 112.67919 , 158.6252  ,\n",
              "        86.77769 , 125.72688 , 127.5625  , 129.36526 , 123.913666,\n",
              "       122.43491 ,  89.79668 , 152.68791 ,  98.74216 , 139.12254 ,\n",
              "        89.11377 , 104.67323 , 115.22606 , 112.33954 , 123.237   ,\n",
              "        90.531845, 124.85838 , 165.67064 , 119.3519  , 165.43896 ,\n",
              "       126.91856 , 111.96732 , 127.68834 , 100.82268 ,  89.30395 ,\n",
              "       104.54396 , 119.54718 ,  83.83974 , 126.474915, 155.58917 ,\n",
              "       115.98081 , 116.27768 , 120.55446 , 124.57225 , 119.43243 ,\n",
              "       121.668945, 117.91618 , 103.388565, 146.78737 , 126.3944  ,\n",
              "       116.05434 ,  74.087906, 127.87961 , 152.89497 , 121.62258 ,\n",
              "       126.05041 ,  87.609406, 104.308655, 123.88725 , 121.09903 ,\n",
              "        72.58355 , 152.41585 , 119.24746 , 105.59918 ,  89.56864 ,\n",
              "       114.74717 , 172.16635 , 118.58995 , 158.71284 , 112.89453 ,\n",
              "       119.624626, 117.84536 ,  95.83294 , 117.50388 , 124.11015 ,\n",
              "       119.06432 ,  97.91078 , 151.44011 , 122.31115 , 145.92905 ,\n",
              "       156.1748  , 112.78486 , 121.79128 , 149.69574 , 124.0752  ,\n",
              "       165.77031 , 141.01276 , 120.40042 , 170.69199 , 106.29144 ,\n",
              "       121.57747 , 139.50372 , 106.58821 ], dtype=float32)"
            ]
          },
          "metadata": {},
          "execution_count": 84
        }
      ]
    },
    {
      "cell_type": "code",
      "source": [
        "y_test"
      ],
      "metadata": {
        "colab": {
          "base_uri": "https://localhost:8080/"
        },
        "id": "wGXq6roGhSw0",
        "outputId": "94482533-92d5-4ce4-de22-720651055be8"
      },
      "execution_count": null,
      "outputs": [
        {
          "output_type": "execute_result",
          "data": {
            "text/plain": [
              "903     168.020004\n",
              "129      81.230003\n",
              "1787    112.320000\n",
              "1913    127.589996\n",
              "2048    119.620003\n",
              "           ...    \n",
              "923     166.380005\n",
              "1693    106.379997\n",
              "2054    122.239998\n",
              "658     133.830002\n",
              "376     102.360001\n",
              "Name: GLD, Length: 458, dtype: float64"
            ]
          },
          "metadata": {},
          "execution_count": 85
        }
      ]
    }
  ]
}